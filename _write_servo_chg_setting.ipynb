{
 "cells": [
  {
   "cell_type": "code",
   "execution_count": 1,
   "metadata": {},
   "outputs": [],
   "source": [
    "import serial #pip3 install pyserial\n",
    "import time\n",
    "import subprocess\n",
    "\n",
    "subprocess.run(['sudo', 'chmod', '777', '/dev/ttyUSB0']) #ttyUSB0 read\n",
    "port=\"/dev/ttyUSB0\" #(jetson)port=\"/dev/ttyTHS1\" | (pi zero) port=\"/dev/ttyS0\"\n",
    "ser=serial.Serial(port, baudrate=38400,bytesize=8, parity='N', stopbits=1) #STS servo default baudrate = 1000000"
   ]
  },
  {
   "cell_type": "code",
   "execution_count": 5,
   "metadata": {},
   "outputs": [
    {
     "name": "stdout",
     "output_type": "stream",
     "text": [
      "[0xff, 0xff, 0x2, 0x4, 0x3, 0x37, 0x0, 0xbf]\n",
      "send ok\n"
     ]
    }
   ],
   "source": [
    "#unlock EPROM, otherwise poweroff reset to default\n",
    "ID = 2\n",
    "int_arr = [0xFF, 0xFF, ID, 4, 3, 0x37, 0x00, 0x00]\n",
    "# update check digit\n",
    "def update_check_digit(int_arr):\n",
    "    checksum = 0\n",
    "    for i in int_arr[2:-1]:\n",
    "        checksum +=i\n",
    "    int_arr[-1] = (checksum & 255)^255 #BitAND then BitXOR\n",
    "\n",
    "update_check_digit(int_arr)\n",
    "print('[{}]'.format(', '.join(hex(x) for x in int_arr)))\n",
    "ser.write(serial.to_bytes(int_arr))\n",
    "print(\"send ok\")"
   ]
  },
  {
   "cell_type": "code",
   "execution_count": 6,
   "metadata": {},
   "outputs": [
    {
     "name": "stdout",
     "output_type": "stream",
     "text": [
      "[0xff, 0xff, 0x1, 0x4, 0x3, 0x5, 0x2, 0xf0]\n",
      "send ok\n"
     ]
    }
   ],
   "source": [
    "#change ID command\n",
    "NEW_ID = 2\n",
    "int_arr = [0xFF, 0xFF, ID, 4, 3, 0x05, NEW_ID, 0x00]\n",
    "# update check digit\n",
    "def update_check_digit(int_arr):\n",
    "    checksum = 0\n",
    "    for i in int_arr[2:-1]:\n",
    "        checksum +=i\n",
    "    int_arr[-1] = (checksum & 255)^255 #BitAND then BitXOR\n",
    "    \n",
    "ID = NEW_ID\n",
    "update_check_digit(int_arr)\n",
    "print('[{}]'.format(', '.join(hex(x) for x in int_arr)))\n",
    "ser.write(serial.to_bytes(int_arr))\n",
    "print(\"send ok\")"
   ]
  },
  {
   "cell_type": "code",
   "execution_count": 6,
   "metadata": {},
   "outputs": [
    {
     "name": "stdout",
     "output_type": "stream",
     "text": [
      "[0xff, 0xff, 0x2, 0x4, 0x3, 0x6, 0x0, 0xf0]\n",
      "send ok\n"
     ]
    }
   ],
   "source": [
    "#change baud rate command\n",
    "baud_rate = 1000000\n",
    "if baud_rate == 38400:\n",
    "    baud_rate=7\n",
    "if baud_rate == 1000000:\n",
    "    baud_rate=0\n",
    "int_arr = [0xFF, 0xFF, ID, 4, 3, 0x06, baud_rate, 0x00]\n",
    "# update check digit\n",
    "def update_check_digit(int_arr):\n",
    "    checksum = 0\n",
    "    for i in int_arr[2:-1]:\n",
    "        checksum +=i\n",
    "    int_arr[-1] = (checksum & 255)^255 #BitAND then BitXOR\n",
    "\n",
    "update_check_digit(int_arr)\n",
    "print('[{}]'.format(', '.join(hex(x) for x in int_arr)))\n",
    "ser.write(serial.to_bytes(int_arr))\n",
    "print(\"send ok\")"
   ]
  },
  {
   "cell_type": "code",
   "execution_count": 7,
   "metadata": {},
   "outputs": [
    {
     "name": "stdout",
     "output_type": "stream",
     "text": [
      "[0xff, 0xff, 0x1, 0x4, 0x3, 0x21, 0x0, 0xd6]\n",
      "send ok\n"
     ]
    }
   ],
   "source": [
    "#change working mode command\n",
    "# 0 = position mode\n",
    "# 1 = constant speed rotation mode\n",
    "# 2 = PWM mode\n",
    "\n",
    "def change_mod(ID, mode):\n",
    "    int_arr = [0xFF, 0xFF, ID, 4, 3, 33, mode, 0x00]\n",
    "    # update check digit\n",
    "    def update_check_digit(int_arr):\n",
    "        checksum = 0\n",
    "        for i in int_arr[2:-1]:\n",
    "            checksum +=i\n",
    "        int_arr[-1] = (checksum & 255)^255 #BitAND then BitXOR\n",
    "\n",
    "    update_check_digit(int_arr)\n",
    "    print('[{}]'.format(', '.join(hex(x) for x in int_arr)))\n",
    "    ser.write(serial.to_bytes(int_arr))\n",
    "    time.sleep(0.1)\n",
    "    print(\"send ok\")\n",
    "\n",
    "change_mod(1,0)"
   ]
  },
  {
   "cell_type": "code",
   "execution_count": 1,
   "metadata": {},
   "outputs": [
    {
     "ename": "NameError",
     "evalue": "name 'ID' is not defined",
     "output_type": "error",
     "traceback": [
      "\u001b[0;31m---------------------------------------------------------------------------\u001b[0m",
      "\u001b[0;31mNameError\u001b[0m                                 Traceback (most recent call last)",
      "\u001b[0;32m<ipython-input-1-3f3ab719a1c5>\u001b[0m in \u001b[0;36m<module>\u001b[0;34m\u001b[0m\n\u001b[1;32m      1\u001b[0m \u001b[0;31m#lock EPROM\u001b[0m\u001b[0;34m\u001b[0m\u001b[0;34m\u001b[0m\u001b[0;34m\u001b[0m\u001b[0m\n\u001b[1;32m      2\u001b[0m \u001b[0;34m\u001b[0m\u001b[0m\n\u001b[0;32m----> 3\u001b[0;31m \u001b[0mint_arr\u001b[0m \u001b[0;34m=\u001b[0m \u001b[0;34m[\u001b[0m\u001b[0;36m0xFF\u001b[0m\u001b[0;34m,\u001b[0m \u001b[0;36m0xFF\u001b[0m\u001b[0;34m,\u001b[0m \u001b[0mID\u001b[0m\u001b[0;34m,\u001b[0m \u001b[0;36m4\u001b[0m\u001b[0;34m,\u001b[0m \u001b[0;36m3\u001b[0m\u001b[0;34m,\u001b[0m \u001b[0;36m0x37\u001b[0m\u001b[0;34m,\u001b[0m \u001b[0;36m0x01\u001b[0m\u001b[0;34m,\u001b[0m \u001b[0;36m0x00\u001b[0m\u001b[0;34m]\u001b[0m\u001b[0;34m\u001b[0m\u001b[0;34m\u001b[0m\u001b[0m\n\u001b[0m\u001b[1;32m      4\u001b[0m \u001b[0;31m# update check digit\u001b[0m\u001b[0;34m\u001b[0m\u001b[0;34m\u001b[0m\u001b[0;34m\u001b[0m\u001b[0m\n\u001b[1;32m      5\u001b[0m \u001b[0;32mdef\u001b[0m \u001b[0mupdate_check_digit\u001b[0m\u001b[0;34m(\u001b[0m\u001b[0mint_arr\u001b[0m\u001b[0;34m)\u001b[0m\u001b[0;34m:\u001b[0m\u001b[0;34m\u001b[0m\u001b[0;34m\u001b[0m\u001b[0m\n",
      "\u001b[0;31mNameError\u001b[0m: name 'ID' is not defined"
     ]
    }
   ],
   "source": [
    "#lock EPROM\n",
    "\n",
    "int_arr = [0xFF, 0xFF, ID, 4, 3, 0x37, 0x01, 0x00]\n",
    "# update check digit\n",
    "def update_check_digit(int_arr):\n",
    "    checksum = 0\n",
    "    for i in int_arr[2:-1]:\n",
    "        checksum +=i\n",
    "    int_arr[-1] = (checksum & 255)^255 #BitAND then BitXOR\n",
    "\n",
    "update_check_digit(int_arr)\n",
    "print('[{}]'.format(', '.join(hex(x) for x in int_arr)))\n",
    "ser.write(serial.to_bytes(int_arr))\n",
    "print(\"send ok\")"
   ]
  },
  {
   "cell_type": "code",
   "execution_count": 201,
   "metadata": {},
   "outputs": [
    {
     "name": "stdout",
     "output_type": "stream",
     "text": [
      "ffff02590003080009020200000100000000465a28e8036c262620200000000000e8030100000314c8500ac8c80000000000000000e8030000000000010000000000004c17000000fb0f0000000000000000000000010a320196fa05ff 186\n",
      "[0xff, 0x2, 0x59, 0x0, 0x3, 0x8, 0x0, 0x9, 0x2, 0x2, 0x0, 0x0, 0x1, 0x0, 0x0, 0x0, 0x0, 0x46, 0x5a, 0x28]\n",
      "[0xe8, 0x3, 0x6c, 0x26, 0x26, 0x20, 0x20, 0x0, 0x0, 0x0, 0x0, 0x0, 0xe8, 0x3, 0x1, 0x0, 0x0, 0x3, 0x14, 0xc8]\n",
      "[0x50, 0xa, 0xc8, 0xc8, 0x0, 0x0, 0x0, 0x0, 0x0, 0x0, 0x0, 0x0, 0xe8, 0x3, 0x0, 0x0, 0x0, 0x0, 0x0, 0x1]\n",
      "[0x0, 0x0, 0x0, 0x0, 0x0, 0x0, 0x4c, 0x17, 0x0, 0x0, 0x0, 0xfb, 0xf, 0x0, 0x0, 0x0, 0x0, 0x0, 0x0, 0x0]\n",
      "[0x0, 0x0, 0x0, 0x0, 0x1, 0xa, 0x32, 0x1, 0x96, 0xfa, 0x5, 0xff]\n",
      "93\n",
      "checksum 255 255\n",
      "3 0 0 0 0\n",
      "3 0 0 0 0\n",
      "ID  2  change mode 3 ok\n",
      "ffff02590003080009020200000100000000465a28e8036c262620200000000000e8030100000314c8500ac8c80000000000000000e8030000000000010000000000004c17000000fb0f0000000000000000000000010a320196fa05ff 186\n",
      "[0xff, 0x2, 0x59, 0x0, 0x3, 0x8, 0x0, 0x9, 0x2, 0x2, 0x0, 0x0, 0x1, 0x0, 0x0, 0x0, 0x0, 0x46, 0x5a, 0x28]\n",
      "[0xe8, 0x3, 0x6c, 0x26, 0x26, 0x20, 0x20, 0x0, 0x0, 0x0, 0x0, 0x0, 0xe8, 0x3, 0x1, 0x0, 0x0, 0x3, 0x14, 0xc8]\n",
      "[0x50, 0xa, 0xc8, 0xc8, 0x0, 0x0, 0x0, 0x0, 0x0, 0x0, 0x0, 0x0, 0xe8, 0x3, 0x0, 0x0, 0x0, 0x0, 0x0, 0x1]\n",
      "[0x0, 0x0, 0x0, 0x0, 0x0, 0x0, 0x4c, 0x17, 0x0, 0x0, 0x0, 0xfb, 0xf, 0x0, 0x0, 0x0, 0x0, 0x0, 0x0, 0x0]\n",
      "[0x0, 0x0, 0x0, 0x0, 0x1, 0xa, 0x32, 0x1, 0x96, 0xfa, 0x5, 0xff]\n",
      "93\n",
      "checksum 255 255\n",
      "3 0 0 0 0\n",
      "3 0 0 0 0\n",
      "ID  2  change mode 0 ok\n",
      "ffff0259000308000902020000010000ff0f465a28e8036c262620200000000000e8030100000014c8500ac8c80000000000000000e803000000000001fc0f000000004c17000000fc0f0000000000000000000000010a320196fa05e8 186\n",
      "[0xff, 0x2, 0x59, 0x0, 0x3, 0x8, 0x0, 0x9, 0x2, 0x2, 0x0, 0x0, 0x1, 0x0, 0x0, 0xff, 0xf, 0x46, 0x5a, 0x28]\n",
      "[0xe8, 0x3, 0x6c, 0x26, 0x26, 0x20, 0x20, 0x0, 0x0, 0x0, 0x0, 0x0, 0xe8, 0x3, 0x1, 0x0, 0x0, 0x0, 0x14, 0xc8]\n",
      "[0x50, 0xa, 0xc8, 0xc8, 0x0, 0x0, 0x0, 0x0, 0x0, 0x0, 0x0, 0x0, 0xe8, 0x3, 0x0, 0x0, 0x0, 0x0, 0x0, 0x1]\n",
      "[0xfc, 0xf, 0x0, 0x0, 0x0, 0x0, 0x4c, 0x17, 0x0, 0x0, 0x0, 0xfc, 0xf, 0x0, 0x0, 0x0, 0x0, 0x0, 0x0, 0x0]\n",
      "[0x0, 0x0, 0x0, 0x0, 0x1, 0xa, 0x32, 0x1, 0x96, 0xfa, 0x5, 0xe8]\n",
      "93\n",
      "checksum 232 232\n",
      "0 4095 0 4092 0\n",
      "0 4095 0 4092 0\n"
     ]
    }
   ],
   "source": [
    "from operator import ne\n",
    "import serial  # pip3 install pyserial\n",
    "import time\n",
    "\n",
    "baudrate_STS = 1000000\n",
    "ID = 2\n",
    "\n",
    "try:\n",
    "    port = \"/dev/ttyUSB0\"\n",
    "    ser = serial.Serial(\n",
    "        port, baudrate=baudrate_STS, bytesize=8, parity='N', stopbits=1, timeout=0.05)\n",
    "except Exception:\n",
    "    port = \"/dev/ttyUSB1\"\n",
    "    ser = serial.Serial(\n",
    "        port, baudrate=baudrate_STS, bytesize=8, parity='N', stopbits=1, timeout=0.05)\n",
    "\n",
    "READ_COMM = 0x02\n",
    "WRITE_COMM = 0x03\n",
    "\n",
    "MAX_POS_LMT = 0xB # 2 bytes\n",
    "WORK_MODE = 0x21 # 2 bytes\n",
    "\n",
    "GOAL_POS = 0x2A   # 2 bytes\n",
    "CURR_POS = 0x38  # 2 bytes\n",
    "MOVE_STATUS = 0x42  # 1 bytes\n",
    "\n",
    "ser.read_all().hex()\n",
    "\n",
    "\n",
    "def str2arr(newdata_hex, split_strings):\n",
    "    for index in range(0, len(newdata_hex), 2):\n",
    "        split_strings.append(int(newdata_hex[index: index + 2], 16))\n",
    "\n",
    "\n",
    "def hexdata(a):\n",
    "    print('[{}]'.format(', '.join(hex(x) for x in a)))\n",
    "\n",
    "\n",
    "def update_check_digit(int_arr):\n",
    "    checksum = 0\n",
    "    for i in int_arr[2:-1]:\n",
    "        checksum += i\n",
    "    int_arr[-1] = (checksum & 255) ^ 255  # BitAND then BitXOR\n",
    "    return int_arr\n",
    "\n",
    "\n",
    "def calculate_checksum(int_arr):\n",
    "    checksum = 0\n",
    "    for i in int_arr[2:-1]:\n",
    "        checksum += i\n",
    "    print(\"checksum\" , (checksum & 255) ^ 255 , int_arr[-1])\n",
    "    return (checksum & 255) ^ 255 == int_arr[-1]\n",
    "\n",
    "def change_mod( mode):\n",
    "    if mode == 0:\n",
    "        int_arr = [0xFF, 0xFF, ID, 4, 3, 33, mode, 0x00]\n",
    "        send(int_arr)\n",
    "        int_arr = [0xFF, 0xFF, ID, 5, 3, 11, 0xff, 0xf, 0x00]\n",
    "        send(int_arr)\n",
    "        print(\"ID \", ID, \" change mode\", mode, \"ok\")\n",
    "    if mode == 3:\n",
    "        int_arr = [0xFF, 0xFF, ID, 4, 3, 33, mode, 0x00]\n",
    "        send(int_arr)\n",
    "        int_arr = [0xFF, 0xFF, ID, 5, 3, 11, 0x00, 0x00, 0x00]\n",
    "        send(int_arr)\n",
    "        print(\"ID \", ID, \" change mode\", mode, \"ok\")\n",
    "\n",
    "def read():\n",
    "    split_strings = []\n",
    "    newdata_hex = get_data()\n",
    "    str2arr(newdata_hex, split_strings)\n",
    "    hexdata(split_strings[1:21])\n",
    "    hexdata(split_strings[21:41])\n",
    "    hexdata(split_strings[41:61])\n",
    "    hexdata(split_strings[61:81])\n",
    "    hexdata(split_strings[81:])\n",
    "    print(len(split_strings))\n",
    "    if calculate_checksum(split_strings) == True:\n",
    "        del split_strings[0:5]\n",
    "        read_work_mode = split_strings[WORK_MODE]\n",
    "        read_max_pos_mlt = split_strings[MAX_POS_LMT]  | split_strings[MAX_POS_LMT+1]  << 8\n",
    "        read_goal_pos = split_strings[GOAL_POS]  | split_strings[GOAL_POS+1]  << 8\n",
    "        read_curr_pos = split_strings[CURR_POS]  | split_strings[CURR_POS+1]  << 8\n",
    "        read_move_status = split_strings[MOVE_STATUS]\n",
    "    print(read_work_mode, read_max_pos_mlt, read_goal_pos, read_curr_pos, read_move_status)\n",
    "    return read_work_mode, read_max_pos_mlt, read_goal_pos, read_curr_pos, read_move_status\n",
    "\n",
    "\n",
    "def get_data():\n",
    "    newdata_hex = \"\"\n",
    "    #read_arr = [0xff, 0xff, ID, 0x4, 0x2, 0x2a, 0x1e, 0x00]\n",
    "    read_arr = [0xff, 0xff, ID, 0x4, READ_COMM, 0, 87, 0x00]\n",
    "\n",
    "    while not newdata_hex.startswith(\"ffff\") and len(newdata_hex) < 72:\n",
    "        ser.write(serial.to_bytes(update_check_digit(read_arr)))\n",
    "        time.sleep(0.06)\n",
    "        newdata_hex = ser.read_all().hex()\n",
    "        #print(\"newdata_hex_get\",newdata_hex, len(newdata_hex))\n",
    "    print(newdata_hex, len(newdata_hex))\n",
    "    return newdata_hex\n",
    "\n",
    "def send(int_arr):\n",
    "    newdata_hex = \"\"\n",
    "    int_arr = update_check_digit(int_arr)\n",
    "    while not newdata_hex.startswith(\"ffff\") and len(newdata_hex) < 12:\n",
    "        ser.write(serial.to_bytes(int_arr))\n",
    "        time.sleep(0.06)\n",
    "        newdata_hex = ser.read_all().hex()\n",
    "        #print(\"newdata_hex_send\",newdata_hex, len(newdata_hex))\n",
    "    return newdata_hex\n",
    "\n",
    "a,b,c,d,e = read()\n",
    "print(a,b,c,d,e)\n",
    "change_mod(3)\n",
    "a,b,c,d,e = read()\n",
    "print(a,b,c,d,e)\n",
    "change_mod(0)\n",
    "a,b,c,d,e = read()\n",
    "print(a,b,c,d,e)\n",
    "\n"
   ]
  },
  {
   "cell_type": "code",
   "execution_count": 72,
   "metadata": {},
   "outputs": [
    {
     "name": "stdout",
     "output_type": "stream",
     "text": [
      "range(0, 10000)\n"
     ]
    },
    {
     "ename": "TypeError",
     "evalue": "'range' object does not support item deletion",
     "output_type": "error",
     "traceback": [
      "\u001b[0;31m---------------------------------------------------------------------------\u001b[0m",
      "\u001b[0;31mTypeError\u001b[0m                                 Traceback (most recent call last)",
      "\u001b[0;32m<ipython-input-72-4353657824dd>\u001b[0m in \u001b[0;36m<module>\u001b[0;34m\u001b[0m\n\u001b[1;32m     14\u001b[0m \u001b[0mprint\u001b[0m\u001b[0;34m(\u001b[0m\u001b[0mhelp\u001b[0m\u001b[0;34m)\u001b[0m\u001b[0;34m\u001b[0m\u001b[0;34m\u001b[0m\u001b[0m\n\u001b[1;32m     15\u001b[0m \u001b[0;32mwhile\u001b[0m \u001b[0mhelp\u001b[0m\u001b[0;34m:\u001b[0m\u001b[0;34m\u001b[0m\u001b[0;34m\u001b[0m\u001b[0m\n\u001b[0;32m---> 16\u001b[0;31m     \u001b[0;32mdel\u001b[0m \u001b[0mhelp\u001b[0m\u001b[0;34m[\u001b[0m\u001b[0;34m:\u001b[0m\u001b[0;36m1000\u001b[0m\u001b[0;34m]\u001b[0m\u001b[0;34m\u001b[0m\u001b[0;34m\u001b[0m\u001b[0m\n\u001b[0m\u001b[1;32m     17\u001b[0m \u001b[0;34m\u001b[0m\u001b[0m\n\u001b[1;32m     18\u001b[0m \u001b[0mprint\u001b[0m\u001b[0;34m(\u001b[0m\u001b[0mhelp\u001b[0m\u001b[0;34m)\u001b[0m\u001b[0;34m\u001b[0m\u001b[0;34m\u001b[0m\u001b[0m\n",
      "\u001b[0;31mTypeError\u001b[0m: 'range' object does not support item deletion"
     ]
    }
   ],
   "source": [
    "import time\n",
    "\n",
    "def timer(delay):\n",
    "    start_time = time.time()\n",
    "    time_diff = 0\n",
    "    while time_diff < delay:\n",
    "        a, b, c = svo1.ser.read()\n",
    "        print(\"read_goal_pos = \", a,\n",
    "              \"read_pres_pos = \", b,\n",
    "              \"read_move_status = \", c)\n",
    "        time_diff = time.time() - start_time\n",
    "\n",
    "help=range(10000)\n",
    "print(help)\n",
    "while help:\n",
    "    del help[:1000]\n",
    "\n",
    "print(help)"
   ]
  },
  {
   "cell_type": "code",
   "execution_count": 144,
   "metadata": {},
   "outputs": [
    {
     "ename": "ValueError",
     "evalue": "Sample larger than population or is negative",
     "output_type": "error",
     "traceback": [
      "\u001b[0;31m---------------------------------------------------------------------------\u001b[0m",
      "\u001b[0;31mValueError\u001b[0m                                Traceback (most recent call last)",
      "\u001b[0;32m<ipython-input-144-e9bb3c586395>\u001b[0m in \u001b[0;36m<module>\u001b[0;34m\u001b[0m\n\u001b[1;32m      3\u001b[0m \u001b[0;31m# using random.sample()\u001b[0m\u001b[0;34m\u001b[0m\u001b[0;34m\u001b[0m\u001b[0;34m\u001b[0m\u001b[0m\n\u001b[1;32m      4\u001b[0m \u001b[0;31m# to generate random number list\u001b[0m\u001b[0;34m\u001b[0m\u001b[0;34m\u001b[0m\u001b[0;34m\u001b[0m\u001b[0m\n\u001b[0;32m----> 5\u001b[0;31m \u001b[0mres\u001b[0m \u001b[0;34m=\u001b[0m \u001b[0mrandom\u001b[0m\u001b[0;34m.\u001b[0m\u001b[0msample\u001b[0m\u001b[0;34m(\u001b[0m\u001b[0mrange\u001b[0m\u001b[0;34m(\u001b[0m\u001b[0;36m1\u001b[0m\u001b[0;34m,\u001b[0m \u001b[0;36m99\u001b[0m\u001b[0;34m)\u001b[0m\u001b[0;34m,\u001b[0m \u001b[0;36m1000\u001b[0m\u001b[0;34m)\u001b[0m\u001b[0;34m\u001b[0m\u001b[0;34m\u001b[0m\u001b[0m\n\u001b[0m\u001b[1;32m      6\u001b[0m \u001b[0;34m\u001b[0m\u001b[0m\n\u001b[1;32m      7\u001b[0m \u001b[0;31m# printing result\u001b[0m\u001b[0;34m\u001b[0m\u001b[0;34m\u001b[0m\u001b[0;34m\u001b[0m\u001b[0m\n",
      "\u001b[0;32m/usr/lib/python3.6/random.py\u001b[0m in \u001b[0;36msample\u001b[0;34m(self, population, k)\u001b[0m\n\u001b[1;32m    318\u001b[0m         \u001b[0mn\u001b[0m \u001b[0;34m=\u001b[0m \u001b[0mlen\u001b[0m\u001b[0;34m(\u001b[0m\u001b[0mpopulation\u001b[0m\u001b[0;34m)\u001b[0m\u001b[0;34m\u001b[0m\u001b[0;34m\u001b[0m\u001b[0m\n\u001b[1;32m    319\u001b[0m         \u001b[0;32mif\u001b[0m \u001b[0;32mnot\u001b[0m \u001b[0;36m0\u001b[0m \u001b[0;34m<=\u001b[0m \u001b[0mk\u001b[0m \u001b[0;34m<=\u001b[0m \u001b[0mn\u001b[0m\u001b[0;34m:\u001b[0m\u001b[0;34m\u001b[0m\u001b[0;34m\u001b[0m\u001b[0m\n\u001b[0;32m--> 320\u001b[0;31m             \u001b[0;32mraise\u001b[0m \u001b[0mValueError\u001b[0m\u001b[0;34m(\u001b[0m\u001b[0;34m\"Sample larger than population or is negative\"\u001b[0m\u001b[0;34m)\u001b[0m\u001b[0;34m\u001b[0m\u001b[0;34m\u001b[0m\u001b[0m\n\u001b[0m\u001b[1;32m    321\u001b[0m         \u001b[0mresult\u001b[0m \u001b[0;34m=\u001b[0m \u001b[0;34m[\u001b[0m\u001b[0;32mNone\u001b[0m\u001b[0;34m]\u001b[0m \u001b[0;34m*\u001b[0m \u001b[0mk\u001b[0m\u001b[0;34m\u001b[0m\u001b[0;34m\u001b[0m\u001b[0m\n\u001b[1;32m    322\u001b[0m         \u001b[0msetsize\u001b[0m \u001b[0;34m=\u001b[0m \u001b[0;36m21\u001b[0m        \u001b[0;31m# size of a small set minus size of an empty list\u001b[0m\u001b[0;34m\u001b[0m\u001b[0;34m\u001b[0m\u001b[0m\n",
      "\u001b[0;31mValueError\u001b[0m: Sample larger than population or is negative"
     ]
    }
   ],
   "source": [
    "import random\n",
    " \n",
    "# using random.sample()\n",
    "# to generate random number list\n",
    "res = random.sample(range(1, 99), 1000)\n",
    " \n",
    "# printing result\n",
    "print (\"Random number list is : \" +  str(res))"
   ]
  },
  {
   "cell_type": "code",
   "execution_count": 179,
   "metadata": {},
   "outputs": [
    {
     "name": "stdout",
     "output_type": "stream",
     "text": [
      "0.0008332729339599609\n",
      "[3, 8, 0, 9, 2, 2, 0, 0, 1, 0, 0, 255, 15, 70, 90, 40, 232, 3, 108, 38, 38, 32, 32, 0, 0, 0, 0, 0, 232, 3, 1, 0, 0, 0, 20, 200, 80, 10, 200, 200, 1, 0, 255, 3, 0, 0, 250, 0, 232, 3, 0, 0, 0, 0, 0, 1, 252, 3, 0, 0, 24, 4, 75, 24, 0, 0, 0, 255, 3, 0, 0, 0, 0, 0, 0, 0, 0, 0, 0, 0, 1, 10, 50, 1, 150, 250, 5, 228]\n"
     ]
    }
   ],
   "source": [
    "import time\n",
    "\n",
    "start_time = time.time()\n",
    "time_diff = 0\n",
    "mylist = [0xff, 0xff, 0x2, 0x59, 0x0, 0x3, 0x8, 0x0, 0x9, 0x2, 0x2, 0x0, 0x0, 0x1, 0x0, 0x0, 0xff, 0xf, 0x46, 0x5a, 0x28, 0xe8, 0x3, 0x6c, 0x26, 0x26, 0x20, 0x20, 0x0, 0x0, 0x0, 0x0, 0x0, 0xe8, 0x3, 0x1, 0x0, 0x0, 0x0, 0x14, 0xc8, 0x50, 0xa, 0xc8, 0xc8, 0x1, 0x0, 0xff, 0x3, 0x0, 0x0, 0xfa, 0x0, 0xe8, 0x3, 0x0, 0x0, 0x0, 0x0, 0x0, 0x1, 0xfc, 0x3, 0x0, 0x0, 0x18, 0x4, 0x4b, 0x18, 0x0, 0x0, 0x0, 0xff, 0x3, 0x0, 0x0, 0x0, 0x0, 0x0, 0x0, 0x0, 0x0, 0x0, 0x0, 0x0, 0x1, 0xa, 0x32, 0x1, 0x96, 0xfa, 0x5, 0xe4]\n",
    "del mylist[0:5]\n",
    "time_diff = time.time() - start_time\n",
    "print(time_diff)\n",
    "print(mylist)"
   ]
  },
  {
   "cell_type": "code",
   "execution_count": 172,
   "metadata": {},
   "outputs": [
    {
     "name": "stdout",
     "output_type": "stream",
     "text": [
      "0.0007650852203369141\n",
      "[3, 8, 0, 9, 2, 2, 0, 0, 1, 0, 0, 255, 15, 70, 90, 40, 232, 3, 108, 38, 38, 32, 32, 0, 0, 0, 0, 0, 232, 3, 1, 0, 0, 0, 20, 200, 80, 10, 200, 200, 1, 0, 255, 3, 0, 0, 250, 0, 232, 3, 0, 0, 0, 0, 0, 1, 252, 3, 0, 0, 24, 4, 75, 24, 0, 0, 0, 255, 3, 0, 0, 0, 0, 0, 0, 0, 0, 0, 0, 0, 1, 10, 50, 1, 150, 250, 5, 228]\n"
     ]
    }
   ],
   "source": [
    "import time\n",
    "\n",
    "start_time = time.time()\n",
    "time_diff = 0\n",
    "mylist = [0xff, 0xff, 0x2, 0x59, 0x0, 0x3, 0x8, 0x0, 0x9, 0x2, 0x2, 0x0, 0x0, 0x1, 0x0, 0x0, 0xff, 0xf, 0x46, 0x5a, 0x28, 0xe8, 0x3, 0x6c, 0x26, 0x26, 0x20, 0x20, 0x0, 0x0, 0x0, 0x0, 0x0, 0xe8, 0x3, 0x1, 0x0, 0x0, 0x0, 0x14, 0xc8, 0x50, 0xa, 0xc8, 0xc8, 0x1, 0x0, 0xff, 0x3, 0x0, 0x0, 0xfa, 0x0, 0xe8, 0x3, 0x0, 0x0, 0x0, 0x0, 0x0, 0x1, 0xfc, 0x3, 0x0, 0x0, 0x18, 0x4, 0x4b, 0x18, 0x0, 0x0, 0x0, 0xff, 0x3, 0x0, 0x0, 0x0, 0x0, 0x0, 0x0, 0x0, 0x0, 0x0, 0x0, 0x0, 0x1, 0xa, 0x32, 0x1, 0x96, 0xfa, 0x5, 0xe4]\n",
    "for i in range(5):\n",
    "    mylist.remove(mylist[0])\n",
    "time_diff = time.time() - start_time\n",
    "print(time_diff)\n",
    "print(mylist)"
   ]
  }
 ],
 "metadata": {
  "interpreter": {
   "hash": "31f2aee4e71d21fbe5cf8b01ff0e069b9275f58929596ceb00d14d90e3e16cd6"
  },
  "kernelspec": {
   "display_name": "Python 3.6.9 64-bit",
   "language": "python",
   "name": "python3"
  },
  "language_info": {
   "codemirror_mode": {
    "name": "ipython",
    "version": 3
   },
   "file_extension": ".py",
   "mimetype": "text/x-python",
   "name": "python",
   "nbconvert_exporter": "python",
   "pygments_lexer": "ipython3",
   "version": "3.6.9"
  },
  "orig_nbformat": 4
 },
 "nbformat": 4,
 "nbformat_minor": 2
}
